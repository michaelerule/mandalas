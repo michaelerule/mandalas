{
 "cells": [
  {
   "cell_type": "code",
   "execution_count": 11,
   "metadata": {},
   "outputs": [],
   "source": [
    "%matplotlib inline\n",
    "from neurotools.nlab import *\n",
    "import os\n",
    "import struct"
   ]
  },
  {
   "cell_type": "code",
   "execution_count": 12,
   "metadata": {},
   "outputs": [
    {
     "data": {
      "text/plain": [
       "['q7-v14-hue_rotate_11.gif',\n",
       " 'q7-v14-hue_rotate_1.gif',\n",
       " 'q7-v16-fire_rotate_7.gif',\n",
       " 'q7-v16-fire_rotate_10.gif',\n",
       " 'q7-v14-hue_rotate_3.gif',\n",
       " 'q7-v14-hue_rotate_7.gif',\n",
       " 'q7-v16-fire_rotate_9.gif',\n",
       " 'sanity.gif',\n",
       " 'q7-v14-hue_rotate_10.gif',\n",
       " 'q7-v14-hue_rotate_9.gif',\n",
       " 'q7-v16-fire_rotate_2.gif',\n",
       " 'q7-v16-fire.gif',\n",
       " 'q7-v14-hue_rotate_2.gif',\n",
       " 'q7-v16-fire_rotate_3.gif',\n",
       " 'q7-v16-fire_rotate_0.gif',\n",
       " 'q7-v16-fire_rotate_11.gif',\n",
       " 'q7-v16-fire_rotate_4.gif',\n",
       " '20170809_rotate_GIF_pallet.ipynb',\n",
       " 'q7-v14-hue_rotate_8.gif',\n",
       " 'q7-v16-roses.gif',\n",
       " 'q7-v16-fire_rotate_6.gif',\n",
       " 'q7-v16-fire_rotate_1.gif',\n",
       " 'q7-v14-hue_rotate_4.gif',\n",
       " 'q7-v14-hue_rotate_0.gif',\n",
       " 'q7-v16-fire_rotate_5.gif',\n",
       " 'q7-v14-hue_rotate_6.gif',\n",
       " 'q7-v14-hue.gif',\n",
       " 'q7-v16-fire_rotate_8.gif',\n",
       " 'q7-v14-hue_rotate_5.gif',\n",
       " '.ipynb_checkpoints']"
      ]
     },
     "execution_count": 12,
     "metadata": {},
     "output_type": "execute_result"
    }
   ],
   "source": [
    "os.listdir('.')"
   ]
  },
  {
   "cell_type": "code",
   "execution_count": 13,
   "metadata": {
    "collapsed": true
   },
   "outputs": [],
   "source": [
    "fn = 'q5-v4.gif'\n",
    "fn = 'q7-v16-fire.gif'\n",
    "#fn = 'q7-v14-hue.gif'\n",
    "fn = 'q7-v16-roses.gif'\n",
    "Nhue      = 12\n",
    "huestart  = 2"
   ]
  },
  {
   "cell_type": "markdown",
   "metadata": {},
   "source": [
    "See http://www.matthewflickinger.com/lab/whatsinagif/bits_and_bytes.asp\n",
    "\n",
    "Objective is to permute GIF color pallet to perform a hue rotation / animation on a specially prepared input. We need only read as far as the color table.\n",
    "\n",
    "The input pallet used hsa 14 colors. The first two are shades of grey. The following 12 are a hue loop that we'd like to permute.\n",
    "\n",
    "We need to output a new file that is binary identitcal to the original, with the exception of the rotated subset of the color pallet."
   ]
  },
  {
   "cell_type": "code",
   "execution_count": 14,
   "metadata": {
    "collapsed": true
   },
   "outputs": [],
   "source": [
    "# Blind copy sanity check\n",
    "outfile = \"sanity.gif\"\n",
    "with open(fn,'rb') as f:\n",
    "    with open(outfile,'wb') as fout:\n",
    "        fout.write(f.read())"
   ]
  },
  {
   "cell_type": "code",
   "execution_count": 15,
   "metadata": {},
   "outputs": [
    {
     "name": "stdout",
     "output_type": "stream",
     "text": [
      "2700 x 2700 GIF89a\n",
      "Global color table flag 1\n",
      "Color resolution 3\n",
      "Sort flag 1\n",
      "Size of global color table 3\n",
      "Background color index 14\n",
      "Pixel aspect ratio 0\n",
      "No. colors used   14\n",
      "No. colors stored 16\n",
      "Color 0 b'\\xfe\\xff\\xfc'\n",
      "Color 1 b'\\xcd\\x8d\\xac'\n",
      "Color 2 b'\\xc9\\xb6\\xff'\n",
      "Color 3 b'\\xbf\\xc6\\xff'\n",
      "Color 4 b'\\xaa\\xe3\\xff'\n",
      "Color 5 b'\\x97\\xff\\xdb'\n",
      "Color 6 b'\\x93\\xff\\xa7'\n",
      "Color 7 b'O\\xec\\x9e'\n",
      "Color 8 b'\\x99\\xd9J'\n",
      "Color 9 b'\\xff\\xdb\\x0c'\n",
      "Color 10 b'\\xff\\x8d\\x00'\n",
      "Color 11 b'\\xffbB'\n",
      "Color 12 b'\\x11$\\xf2'\n",
      "Color 13 b'\\xdf\\x00\\xf2'\n",
      "Color 14 b'\\xff\\xff\\xff'\n",
      "Color 15 b'\\xff\\xff\\xff'\n",
      "Saved q7-v16-roses_rotate_0.gif\n",
      "Saved q7-v16-roses_rotate_1.gif\n",
      "Saved q7-v16-roses_rotate_2.gif\n",
      "Saved q7-v16-roses_rotate_3.gif\n",
      "Saved q7-v16-roses_rotate_4.gif\n",
      "Saved q7-v16-roses_rotate_5.gif\n",
      "Saved q7-v16-roses_rotate_6.gif\n",
      "Saved q7-v16-roses_rotate_7.gif\n",
      "Saved q7-v16-roses_rotate_8.gif\n",
      "Saved q7-v16-roses_rotate_9.gif\n",
      "Saved q7-v16-roses_rotate_10.gif\n",
      "Saved q7-v16-roses_rotate_11.gif\n"
     ]
    }
   ],
   "source": [
    "with open(fn, \"rb\") as f:\n",
    "\n",
    "    # Get header and extract and print flags, fields, etc\n",
    "    header = f.read(13)\n",
    "    form = header[0:][:6].decode('ascii')\n",
    "    w = struct.unpack(\"H\",header[6:][:2])[0]\n",
    "    h = struct.unpack(\"H\",header[8:][:2])[0]\n",
    "    print('%d x %d %s'%(w,h,form))\n",
    "    flags = struct.unpack(\"B\",header[10:][:1])[0]\n",
    "    bgci  = struct.unpack(\"B\",header[11:][:1])[0]\n",
    "    pasp  = struct.unpack(\"B\",header[12:][:1])[0]\n",
    "    gcts  = flags&0b00000111\n",
    "    sort  = flags&0b00001000>>3\n",
    "    cres  = flags&0b01110000>>4\n",
    "    gctf  = flags&0b10000000>>7\n",
    "    print('Global color table flag',gctf)\n",
    "    print('Color resolution',cres)\n",
    "    print('Sort flag',sort)\n",
    "    print('Size of global color table',gcts)\n",
    "    print('Background color index',bgci) # No. Colors?\n",
    "    print('Pixel aspect ratio',pasp)\n",
    "\n",
    "    # Get color pallet information\n",
    "    Ncolors = 2**(gcts+1)\n",
    "    print('No. colors used  ',bgci)\n",
    "    print('No. colors stored',Ncolors)\n",
    "    colordata = []\n",
    "    for i in range(Ncolors):\n",
    "        RGB = f.read(3)\n",
    "        print('Color %d'%i,RGB)\n",
    "        colordata+=[[RGB]]\n",
    "    \n",
    "    # get remainder of file\n",
    "    imagedata = f.read()\n",
    "\n",
    "colordata = array(colordata)\n",
    "hues      = array(colordata[huestart:huestart+Nhue])\n",
    "\n",
    "# now open an output file and do the rotation(s)\n",
    "basename = '.'.join(fn.split('.')[:-1])\n",
    "for i in range(Nhue):\n",
    "    fout  = basename+'_rotate_%d.gif'%i\n",
    "    colordata[huestart:huestart+Nhue] = np.roll(hues,i,axis=0)    \n",
    "    with open(fout,\"wb\") as f:\n",
    "        f.write(header)\n",
    "        f.write(colordata)\n",
    "        f.write(imagedata)\n",
    "    print('Saved',fout)"
   ]
  },
  {
   "cell_type": "code",
   "execution_count": null,
   "metadata": {
    "collapsed": true
   },
   "outputs": [],
   "source": []
  }
 ],
 "metadata": {
  "kernelspec": {
   "display_name": "Python 3",
   "language": "python",
   "name": "python3"
  },
  "language_info": {
   "codemirror_mode": {
    "name": "ipython",
    "version": 3
   },
   "file_extension": ".py",
   "mimetype": "text/x-python",
   "name": "python",
   "nbconvert_exporter": "python",
   "pygments_lexer": "ipython3",
   "version": "3.5.2"
  }
 },
 "nbformat": 4,
 "nbformat_minor": 2
}
